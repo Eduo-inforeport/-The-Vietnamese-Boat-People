{
  "nbformat": 4,
  "nbformat_minor": 0,
  "metadata": {
    "colab": {
      "provenance": [],
      "authorship_tag": "ABX9TyMcTsfRO1G+yExFPkQsNZwD",
      "include_colab_link": true
    },
    "kernelspec": {
      "name": "python3",
      "display_name": "Python 3"
    },
    "language_info": {
      "name": "python"
    }
  },
  "cells": [
    {
      "cell_type": "markdown",
      "metadata": {
        "id": "view-in-github",
        "colab_type": "text"
      },
      "source": [
        "<a href=\"https://colab.research.google.com/github/Eduo-inforeport/-The-Vietnamese-Boat-People/blob/main/Untitled1.ipynb\" target=\"_parent\"><img src=\"https://colab.research.google.com/assets/colab-badge.svg\" alt=\"Open In Colab\"/></a>"
      ]
    },
    {
      "cell_type": "code",
      "source": [
        "\n",
        "def kmph_to_mps(kmph):\n",
        "\n",
        "    mps = kmph * 1000 / 3600\n",
        "    return mps\n",
        "\n",
        "\n",
        "speed_kmph = float(input(\"Enter speed in kilometers per hour (km/h): \"))\n",
        "speed_mps = kmph_to_mps(speed_kmph)\n",
        "print(f\"{speed_kmph} km/h is equal to {speed_mps:.2f} m/s\")\n"
      ],
      "metadata": {
        "id": "l_cvfk7MDvc5"
      },
      "execution_count": null,
      "outputs": []
    }
  ]
}